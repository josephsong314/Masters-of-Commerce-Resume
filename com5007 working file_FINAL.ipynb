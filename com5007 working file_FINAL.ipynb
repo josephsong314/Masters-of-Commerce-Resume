{
 "cells": [
  {
   "cell_type": "code",
   "execution_count": 3,
   "id": "53b001d5",
   "metadata": {
    "scrolled": false
   },
   "outputs": [
    {
     "data": {
      "application/vnd.jupyter.widget-view+json": {
       "model_id": "391aef338e1349acab2a3f579f75d713",
       "version_major": 2,
       "version_minor": 0
      },
      "text/plain": [
       "Dropdown(description='Select Stock:', options=('Lockheed Martin Corporation (LMT-US)', 'Chevron Corporation (C…"
      ]
     },
     "metadata": {},
     "output_type": "display_data"
    },
    {
     "data": {
      "application/vnd.jupyter.widget-view+json": {
       "model_id": "1ab536ea47d74d5ab1244b4bc675762f",
       "version_major": 2,
       "version_minor": 0
      },
      "text/plain": [
       "IntSlider(value=1, description='years:', max=10, min=1)"
      ]
     },
     "metadata": {},
     "output_type": "display_data"
    },
    {
     "data": {
      "application/vnd.jupyter.widget-view+json": {
       "model_id": "4e620c3b86764b0885957be1a1f61db9",
       "version_major": 2,
       "version_minor": 0
      },
      "text/plain": [
       "Output()"
      ]
     },
     "metadata": {},
     "output_type": "display_data"
    }
   ],
   "source": [
    "import ipywidgets as widgets\n",
    "from IPython.display import display\n",
    "from IPython.display import clear_output\n",
    "import pandas as pd\n",
    "import numpy as np\n",
    "import seaborn as sns\n",
    "import matplotlib\n",
    "import matplotlib.pyplot as plt\n",
    "\n",
    "\n",
    "stock = pd.read_excel(\"10 Stocks & S&P500.xlsx\")                 # read excel file\n",
    "stock['Date'] = pd.to_datetime(stock['Date'], format='%Y-%m-%d') # Convert the date column to datetime format\n",
    "clean_data = stock.columns[stock.notnull().all()]                # select data which is notnull\n",
    "stock = stock[clean_data]                                        # stock return dataframe is cleaned\n",
    "year_groups = stock.groupby(stock['Date'].dt.year)               # group by year\n",
    "\n",
    "def Sharpe_Ratio(name):     # denote 'name' as the selected stock which we want to analyse & simplify the code to be one function\n",
    "    \n",
    "    #record selected stock and S&P columns\n",
    "    columns_check =list(map(str.lower,list(stock.columns[1:])))  # create the list of columns name, and remove the date column\n",
    "  \n",
    "    for position in range(len(columns_check)):             # check the selected stock column  and S&P column\n",
    "        if  name.lower() in columns_check[position]:       # if selected stock input is selected stock column\n",
    "            selected_stock_column = position                   # record the column position index \n",
    "        if 'SP50'.lower() in columns_check[position]:      # if S&P 500  input  is in the S&P 500 full name\n",
    "            SP50_column = position                             # record the S&P 500 column index\n",
    "  \n",
    "#Find Return \n",
    "    Ret = year_groups.mean()                               # ***average monthly return for each year which is not average annualised return****\n",
    "    Ret = Ret[Ret.columns[1:]]*12                          # delete date column because dataframe with string cannot be multiplied by number, and annualise return by multiplying 12\n",
    "    Ret1 = pd.DataFrame(Ret[Ret.columns[selected_stock_column]])  #select and create dataframe which has only selected stock return\n",
    "    Ret2 = pd.DataFrame(Ret[Ret.columns[SP50_column]])     # select and create dataframe which has only S&P 500 return\n",
    "    Ret_Final = pd.concat([Ret1, Ret2], axis='columns')    # concatenate two dataframes and keep the same row index\n",
    "    Ret_Final = Ret_Final.rename_axis('Year').rename_axis('Return(%)', axis='columns') # change 'Date' axis name to 'Year', and name 'Return(%)' as column-axis name \n",
    "    \n",
    "#Find Standard Deviation\n",
    "    SD = year_groups.std()                                 # *** standard deviation each year***\n",
    "    SD = SD[SD.columns[1:]]                                # remove date column\n",
    "    SD = SD*np.sqrt(12)                                    # multiply sqrt(12) to annualise standard deviation\n",
    "    SD1 = pd.DataFrame(SD[SD.columns[selected_stock_column]])  #select and create dataframe which has only selected stock standard deviation\n",
    "    SD2 = pd.DataFrame(SD[SD.columns[SP50_column]])        # select and create dataframe which has only S&P 500 standard deviation\n",
    "    SD_Final = pd.concat([SD1, SD2], axis='columns')       # concatenate two dataframes and keep the same row index\n",
    "    SD_Final = SD_Final.rename_axis('Year').rename_axis('SD(%)', axis='columns') # change 'Date' axis name to 'Year', and name 'SD(%)' as column-axis name \n",
    "    \n",
    "    \n",
    "#Find Sharpe Ratio\n",
    "    Rf = 3                                                 # assume risk-free rate = 3% per annum\n",
    "    SR = (Ret_Final-Rf)/SD_Final                           # Sharpe Ratio = (Return - Risk-free rate)/standard deviation\n",
    "    SR = SR.rename_axis('Sharpe Ratio', axis='columns')    # name 'Sharpe Ratio' as column-axis name\n",
    "    \n",
    "    display(SR)                                            # show Sharpe Ratio dataframe between selected stock & S&P 500\n",
    "    display(SD_Final)                                      # show standard deviation dataframe between selected stock & S&P 500\n",
    "    display(Ret_Final)                                     # show return dataframe between selected stock & S&P 500\n",
    "    return SR\n",
    "\n",
    "def SR_graph(stock_name, years):\n",
    "    with output:\n",
    "        clear_output(wait=True) # this clears out the previous results allowing for new data to prsented\n",
    "        SR_data = Sharpe_Ratio(stock_name)# it enables us to call on the shapre ratio function that is calculated above by Don\n",
    "        \n",
    "        year_now = SR_data.index[-1]   #it must start at 2022 not 2023, pd.to_datetime('now').year refers the real current year (2023), but our latest data is 2022\n",
    "        # get the latest index value from the create DataFrame\n",
    "        \n",
    "        year_back = year_now - years  # years variable come from slider, so analysed duration will be 2022 - years \n",
    "        #allows for the selection of the years that will be analysed \n",
    "        filtered_SR = SR_data[(SR_data.index >= year_back) & (SR_data.index <= year_now)] # only to include data from years back and years now\n",
    "        \n",
    "        plt.figure(figsize=(10, 5))\n",
    "        if 'S&P 500 (SP50)' in filtered_SR.columns:\n",
    "            plt.plot(filtered_SR.index, filtered_SR['S&P 500 (SP50)'], label='S&P500 SR') #plot S&P500 sharpe ratio\n",
    "        else:\n",
    "            print(\"'S&P 500' column not found in the DataFrame.\")\n",
    "        if stock_name != 'S&P 500 (SP50)':\n",
    "            plt.plot(filtered_SR.index, filtered_SR[f\"{stock_name}\"], label=f\"{stock_name} SR\") # this filers and also plots the chosen stock for comparison with the s&p500\n",
    "        \n",
    "        plt.xlabel(\"Years\")\n",
    "        plt.ylabel('Sharpe Ratios')\n",
    "        plt.title(\"Sharpe Ratio Comparison\")\n",
    "        plt.legend()\n",
    "        plt.grid(True)\n",
    "        plt.show()\n",
    "       # all of the above plots the descriptions in the graph and allows us to presnet it with the show function \n",
    "\n",
    "\n",
    "#wideget for dropdown function\n",
    "dropdown_control = widgets.Dropdown(\n",
    "    options=[column for column in stock.columns if column != 'Date'],  # Exclude 'Date' column. define what will be included and displayed in the dropdown menu\n",
    "    description='Select Stock:',\n",
    "    ensure_option=True, # this makes sure that the dropdown always has something selected\n",
    "\n",
    "    value=stock.columns[1] # selects the value from stock column and sets the default second column\n",
    ")\n",
    "\n",
    "\n",
    "\n",
    "#Create a Slider\n",
    "\n",
    "slider_control = widgets.IntSlider(\n",
    "    min=1, # min value of slider at 1\n",
    "    max=10,# max value of slider at 10\n",
    "    step=1, # makes it so the slider moves increments of 1\n",
    "    description='years:',\n",
    "    continous_update=False, # when the slider control is updated\n",
    "    value=1 # set the slider to start at 1\n",
    ")\n",
    "\n",
    "\n",
    "# This function below controls what the slider and drop down function does in relation to stock selection and graph control\n",
    "output = widgets.Output()\n",
    "\n",
    "\n",
    "# widget control\n",
    "def value_change(change):\n",
    "     if change['type'] == 'change' and change['name'] == 'value':\n",
    "            SR_graph(dropdown_control.value, slider_control.value)\n",
    "\n",
    "dropdown_control.observe(value_change, names='value')\n",
    "slider_control.observe(value_change, names='value')\n",
    "# value_change function above helps to control th slider and dropdown menu, the value of the drop and slider will be changed, by calling the value_change function\n",
    "\n",
    "\n",
    "\n",
    "SR_graph(dropdown_control.value, slider_control.value,)\n",
    "# this ensure that the graph is displayed and show what the dropdown menu has selected. whilst alsso allowing for slider function to be tied with the graph\n",
    "\n",
    "\n",
    "display(dropdown_control, slider_control, output)\n",
    "# displays both the slider and dropdown function"
   ]
  },
  {
   "cell_type": "code",
   "execution_count": null,
   "id": "eaa79e1e",
   "metadata": {},
   "outputs": [],
   "source": []
  }
 ],
 "metadata": {
  "kernelspec": {
   "display_name": "Python 3 (ipykernel)",
   "language": "python",
   "name": "python3"
  },
  "language_info": {
   "codemirror_mode": {
    "name": "ipython",
    "version": 3
   },
   "file_extension": ".py",
   "mimetype": "text/x-python",
   "name": "python",
   "nbconvert_exporter": "python",
   "pygments_lexer": "ipython3",
   "version": "3.11.4"
  }
 },
 "nbformat": 4,
 "nbformat_minor": 5
}
